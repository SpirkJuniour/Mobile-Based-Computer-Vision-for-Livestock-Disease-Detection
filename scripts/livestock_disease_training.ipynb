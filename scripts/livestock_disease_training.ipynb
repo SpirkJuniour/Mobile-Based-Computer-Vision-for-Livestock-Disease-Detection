{
  "cells": [
    {
      "cell_type": "markdown",
      "metadata": {},
      "source": [
        "#  Livestock Disease Detection - Google Colab Training\n",
        "\n",
        "This notebook trains a deep learning model to detect livestock diseases from images.\n",
        "\n",
        "## Dataset: 4,986+ images across 5 disease categories\n",
        "- Lumpy Skin Disease\n",
        "- Foot and Mouth Disease (FMD)\n",
        "- Mastitis\n",
        "- Healthy\n",
        "- Dermatitis\n"
      ]
    },
    {
      "cell_type": "markdown",
      "metadata": {},
      "source": [
        "##  Setup and Installation\n"
      ]
    },
    {
      "cell_type": "code",
      "execution_count": null,
      "metadata": {},
      "outputs": [],
      "source": [
        "# Install required packages\n",
        "!pip install torch torchvision torchaudio --index-url https://download.pytorch.org/whl/cu118\n",
        "!pip install pandas numpy pillow scikit-learn matplotlib seaborn opencv-python tqdm\n",
        "\n",
        "print(\" All packages installed successfully!\")\n"
      ]
    },
    {
      "cell_type": "code",
      "execution_count": null,
      "metadata": {},
      "outputs": [],
      "source": [
        "# Mount Google Drive to access your data\n",
        "from google.colab import drive\n",
        "drive.mount('/content/drive')\n",
        "\n",
        "print(\" Google Drive mounted!\")\n"
      ]
    },
    {
      "cell_type": "code",
      "execution_count": null,
      "metadata": {},
      "outputs": [],
      "source": [
        "# Upload your data to Colab\n",
        "import os\n",
        "import shutil\n",
        "\n",
        "# Check if data exists in drive\n",
        "drive_data_path = '/content/drive/MyDrive/Mobile-Based-Computer-Vision-for-Livestock-Disease-Detection/assets/unlabeled_data'\n",
        "if os.path.exists(drive_data_path):\n",
        "    print(\" Found data in Google Drive!\")\n",
        "    # Copy data to working directory\n",
        "    shutil.copytree(drive_data_path, '/content/assets/unlabeled_data')\n",
        "    print(\" Data copied to working directory\")\n",
        "else:\n",
        "    print(\" Please upload your data manually:\")\n",
        "    print(\"1. Zip your 'assets/unlabeled_data' folder\")\n",
        "    print(\"2. Upload the zip file to this Colab session\")\n",
        "    print(\"3. Run the next cell to extract it\")\n"
      ]
    },
    {
      "cell_type": "code",
      "execution_count": null,
      "metadata": {},
      "outputs": [],
      "source": [
        "# If you uploaded a zip file, extract it here\n",
        "import zipfile\n",
        "\n",
        "# Look for uploaded zip files\n",
        "zip_files = [f for f in os.listdir('/content') if f.endswith('.zip')]\n",
        "\n",
        "if zip_files:\n",
        "    zip_file = zip_files[0]\n",
        "    print(f\" Found zip file: {zip_file}\")\n",
        "    \n",
        "    # Extract the zip file\n",
        "    with zipfile.ZipFile(f'/content/{zip_file}', 'r') as zip_ref:\n",
        "        zip_ref.extractall('/content')\n",
        "    \n",
        "    print(\" Data extracted successfully!\")\n",
        "else:\n",
        "    print(\" No zip file found. Please upload your data first.\")\n"
      ]
    }
  ],
  "metadata": {
    "language_info": {
      "name": "python"
    }
  },
  "nbformat": 4,
  "nbformat_minor": 2
}
